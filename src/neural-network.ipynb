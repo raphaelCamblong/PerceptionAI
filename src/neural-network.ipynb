{
 "cells": [
  {
   "cell_type": "code",
   "execution_count": 2,
   "outputs": [],
   "source": [
    "import numpy as np\n",
    "import pandas as pd\n",
    "from matplotlib import pyplot as plt"
   ],
   "metadata": {
    "collapsed": false,
    "ExecuteTime": {
     "end_time": "2023-11-12T19:18:39.559304516Z",
     "start_time": "2023-11-12T19:18:38.458695423Z"
    }
   },
   "id": "29eef2b3871ab241"
  },
  {
   "cell_type": "code",
   "execution_count": 3,
   "outputs": [],
   "source": [
    "data = pd.read_csv('../data/train.csv')"
   ],
   "metadata": {
    "collapsed": false,
    "ExecuteTime": {
     "end_time": "2023-11-12T19:18:41.239909902Z",
     "start_time": "2023-11-12T19:18:39.563392637Z"
    }
   },
   "id": "b2c4674e280d10a2"
  },
  {
   "cell_type": "code",
   "execution_count": 4,
   "outputs": [],
   "source": [
    "data = np.array(data)\n",
    "m, n = data.shape\n",
    "np.random.shuffle(data)\n",
    "\n",
    "data_dev = data[0:1000].T\n",
    "Y_dev = data_dev[0]\n",
    "X_dev = data_dev[1:n]\n",
    "X_dev = X_dev / 255.\n",
    "\n",
    "data_train = data[1000:m].T\n",
    "Y_train = data_train[0]\n",
    "X_train = data_train[1:n]\n",
    "X_train = X_train / 255.\n",
    "_,m_train = X_train.shape"
   ],
   "metadata": {
    "collapsed": false,
    "ExecuteTime": {
     "end_time": "2023-11-12T19:18:42.919901797Z",
     "start_time": "2023-11-12T19:18:41.243057459Z"
    }
   },
   "id": "d1fb30d14480fb99"
  },
  {
   "cell_type": "code",
   "execution_count": 5,
   "outputs": [
    {
     "data": {
      "text/plain": "array([9, 2, 9, ..., 2, 3, 9])"
     },
     "execution_count": 5,
     "metadata": {},
     "output_type": "execute_result"
    }
   ],
   "source": [
    "Y_train"
   ],
   "metadata": {
    "collapsed": false,
    "ExecuteTime": {
     "end_time": "2023-11-12T19:18:42.944782658Z",
     "start_time": "2023-11-12T19:18:42.920524022Z"
    }
   },
   "id": "e318410fbf376bec"
  },
  {
   "cell_type": "code",
   "execution_count": 6,
   "outputs": [],
   "source": [
    "def init_params():\n",
    "    W1 = np.random.rand(10, 784) - 0.5\n",
    "    b1 = np.random.rand(10, 1) - 0.5\n",
    "    W2 = np.random.rand(10, 10) - 0.5\n",
    "    b2 = np.random.rand(10, 1) - 0.5\n",
    "    return W1, b1, W2, b2\n",
    "\n",
    "def ReLU(Z):\n",
    "    return np.maximum(Z, 0)\n",
    "\n",
    "def softmax(Z):\n",
    "    A = np.exp(Z) / sum(np.exp(Z))\n",
    "    return A\n",
    "    \n",
    "def forward_prop(W1, b1, W2, b2, X):\n",
    "    Z1 = W1.dot(X) + b1\n",
    "    A1 = ReLU(Z1)\n",
    "    Z2 = W2.dot(A1) + b2\n",
    "    A2 = softmax(Z2)\n",
    "    return Z1, A1, Z2, A2\n",
    "\n",
    "def ReLU_deriv(Z):\n",
    "    return Z > 0\n",
    "\n",
    "def one_hot(Y):\n",
    "    one_hot_Y = np.zeros((Y.size, Y.max() + 1))\n",
    "    one_hot_Y[np.arange(Y.size), Y] = 1\n",
    "    one_hot_Y = one_hot_Y.T\n",
    "    return one_hot_Y\n",
    "\n",
    "def backward_prop(Z1, A1, Z2, A2, W1, W2, X, Y):\n",
    "    one_hot_Y = one_hot(Y)\n",
    "    dZ2 = A2 - one_hot_Y\n",
    "    dW2 = 1 / m * dZ2.dot(A1.T)\n",
    "    db2 = 1 / m * np.sum(dZ2)\n",
    "    dZ1 = W2.T.dot(dZ2) * ReLU_deriv(Z1)\n",
    "    dW1 = 1 / m * dZ1.dot(X.T)\n",
    "    db1 = 1 / m * np.sum(dZ1)\n",
    "    return dW1, db1, dW2, db2\n",
    "\n",
    "def update_params(W1, b1, W2, b2, dW1, db1, dW2, db2, alpha):\n",
    "    W1 = W1 - alpha * dW1\n",
    "    b1 = b1 - alpha * db1    \n",
    "    W2 = W2 - alpha * dW2  \n",
    "    b2 = b2 - alpha * db2    \n",
    "    return W1, b1, W2, b2"
   ],
   "metadata": {
    "collapsed": false,
    "ExecuteTime": {
     "end_time": "2023-11-12T19:18:42.945163242Z",
     "start_time": "2023-11-12T19:18:42.936215214Z"
    }
   },
   "id": "5c2226d94bde9880"
  },
  {
   "cell_type": "code",
   "execution_count": 7,
   "outputs": [],
   "source": [
    "def get_predictions(A2):\n",
    "    return np.argmax(A2, 0)\n",
    "\n",
    "def get_accuracy(predictions, Y):\n",
    "    print(predictions, Y)\n",
    "    return np.sum(predictions == Y) / Y.size\n",
    "\n",
    "def gradient_descent(X, Y, alpha, iterations):\n",
    "    W1, b1, W2, b2 = init_params()\n",
    "    for i in range(iterations):\n",
    "        Z1, A1, Z2, A2 = forward_prop(W1, b1, W2, b2, X)\n",
    "        dW1, db1, dW2, db2 = backward_prop(Z1, A1, Z2, A2, W1, W2, X, Y)\n",
    "        W1, b1, W2, b2 = update_params(W1, b1, W2, b2, dW1, db1, dW2, db2, alpha)\n",
    "        if i % 10 == 0:\n",
    "            print(\"Iteration: \", i)\n",
    "            predictions = get_predictions(A2)\n",
    "            print(get_accuracy(predictions, Y))\n",
    "    return W1, b1, W2, b2"
   ],
   "metadata": {
    "collapsed": false,
    "ExecuteTime": {
     "end_time": "2023-11-12T19:18:43.024554988Z",
     "start_time": "2023-11-12T19:18:42.940854640Z"
    }
   },
   "id": "5aeae3e9b8e5901a"
  },
  {
   "cell_type": "code",
   "execution_count": 8,
   "outputs": [
    {
     "name": "stdout",
     "output_type": "stream",
     "text": [
      "Iteration:  0\n",
      "[1 3 7 ... 3 3 3] [9 2 9 ... 2 3 9]\n",
      "0.14197560975609755\n",
      "Iteration:  10\n",
      "[1 3 5 ... 5 5 8] [9 2 9 ... 2 3 9]\n",
      "0.2111951219512195\n",
      "Iteration:  20\n",
      "[1 2 5 ... 5 5 8] [9 2 9 ... 2 3 9]\n",
      "0.2561707317073171\n",
      "Iteration:  30\n",
      "[1 2 5 ... 2 5 9] [9 2 9 ... 2 3 9]\n",
      "0.2992439024390244\n",
      "Iteration:  40\n",
      "[9 2 9 ... 2 5 9] [9 2 9 ... 2 3 9]\n",
      "0.31821951219512196\n",
      "Iteration:  50\n",
      "[9 2 9 ... 2 5 9] [9 2 9 ... 2 3 9]\n",
      "0.33507317073170734\n",
      "Iteration:  60\n",
      "[9 2 9 ... 2 2 9] [9 2 9 ... 2 3 9]\n",
      "0.3578780487804878\n",
      "Iteration:  70\n",
      "[9 2 9 ... 2 2 8] [9 2 9 ... 2 3 9]\n",
      "0.3881707317073171\n",
      "Iteration:  80\n",
      "[9 2 9 ... 2 2 8] [9 2 9 ... 2 3 9]\n",
      "0.42565853658536584\n",
      "Iteration:  90\n",
      "[9 2 9 ... 2 2 8] [9 2 9 ... 2 3 9]\n",
      "0.4598780487804878\n",
      "Iteration:  100\n",
      "[9 2 9 ... 2 2 8] [9 2 9 ... 2 3 9]\n",
      "0.4938292682926829\n",
      "Iteration:  110\n",
      "[9 2 9 ... 2 2 8] [9 2 9 ... 2 3 9]\n",
      "0.5266585365853659\n",
      "Iteration:  120\n",
      "[9 2 9 ... 2 3 8] [9 2 9 ... 2 3 9]\n",
      "0.563\n",
      "Iteration:  130\n",
      "[9 2 9 ... 2 3 8] [9 2 9 ... 2 3 9]\n",
      "0.5979268292682927\n",
      "Iteration:  140\n",
      "[9 2 9 ... 2 3 8] [9 2 9 ... 2 3 9]\n",
      "0.6262926829268293\n",
      "Iteration:  150\n",
      "[9 2 9 ... 2 3 8] [9 2 9 ... 2 3 9]\n",
      "0.6498780487804878\n",
      "Iteration:  160\n",
      "[9 2 9 ... 2 3 8] [9 2 9 ... 2 3 9]\n",
      "0.6680975609756098\n",
      "Iteration:  170\n",
      "[9 2 7 ... 2 3 8] [9 2 9 ... 2 3 9]\n",
      "0.6840243902439025\n",
      "Iteration:  180\n",
      "[9 2 7 ... 2 3 8] [9 2 9 ... 2 3 9]\n",
      "0.698\n",
      "Iteration:  190\n",
      "[9 2 7 ... 2 3 8] [9 2 9 ... 2 3 9]\n",
      "0.7103414634146341\n",
      "Iteration:  200\n",
      "[9 2 7 ... 2 3 8] [9 2 9 ... 2 3 9]\n",
      "0.7225853658536585\n",
      "Iteration:  210\n",
      "[9 2 7 ... 2 3 8] [9 2 9 ... 2 3 9]\n",
      "0.732\n",
      "Iteration:  220\n",
      "[9 2 7 ... 2 3 8] [9 2 9 ... 2 3 9]\n",
      "0.7407560975609756\n",
      "Iteration:  230\n",
      "[9 2 7 ... 2 3 8] [9 2 9 ... 2 3 9]\n",
      "0.7503170731707317\n",
      "Iteration:  240\n",
      "[9 2 7 ... 2 3 8] [9 2 9 ... 2 3 9]\n",
      "0.7574634146341463\n",
      "Iteration:  250\n",
      "[9 2 7 ... 2 3 4] [9 2 9 ... 2 3 9]\n",
      "0.7650975609756098\n",
      "Iteration:  260\n",
      "[9 2 7 ... 2 3 4] [9 2 9 ... 2 3 9]\n",
      "0.7715609756097561\n",
      "Iteration:  270\n",
      "[9 2 7 ... 2 3 4] [9 2 9 ... 2 3 9]\n",
      "0.7770243902439025\n",
      "Iteration:  280\n",
      "[9 2 7 ... 2 3 4] [9 2 9 ... 2 3 9]\n",
      "0.7818048780487805\n",
      "Iteration:  290\n",
      "[9 2 7 ... 2 3 9] [9 2 9 ... 2 3 9]\n",
      "0.786829268292683\n",
      "Iteration:  300\n",
      "[9 2 7 ... 2 3 9] [9 2 9 ... 2 3 9]\n",
      "0.7911951219512195\n",
      "Iteration:  310\n",
      "[9 2 7 ... 2 3 9] [9 2 9 ... 2 3 9]\n",
      "0.7949024390243903\n",
      "Iteration:  320\n",
      "[9 2 7 ... 2 3 9] [9 2 9 ... 2 3 9]\n",
      "0.7984634146341464\n",
      "Iteration:  330\n",
      "[9 2 7 ... 2 3 9] [9 2 9 ... 2 3 9]\n",
      "0.8023902439024391\n",
      "Iteration:  340\n",
      "[9 2 7 ... 2 3 9] [9 2 9 ... 2 3 9]\n",
      "0.8057073170731708\n",
      "Iteration:  350\n",
      "[9 2 7 ... 2 3 9] [9 2 9 ... 2 3 9]\n",
      "0.8085365853658537\n",
      "Iteration:  360\n",
      "[9 2 7 ... 2 3 9] [9 2 9 ... 2 3 9]\n",
      "0.8113658536585366\n",
      "Iteration:  370\n",
      "[9 2 7 ... 2 3 9] [9 2 9 ... 2 3 9]\n",
      "0.8140975609756097\n",
      "Iteration:  380\n",
      "[9 2 7 ... 2 3 9] [9 2 9 ... 2 3 9]\n",
      "0.8170731707317073\n",
      "Iteration:  390\n",
      "[9 2 7 ... 2 3 9] [9 2 9 ... 2 3 9]\n",
      "0.8193414634146341\n",
      "Iteration:  400\n",
      "[9 2 7 ... 2 3 9] [9 2 9 ... 2 3 9]\n",
      "0.8216341463414634\n",
      "Iteration:  410\n",
      "[9 2 7 ... 2 3 9] [9 2 9 ... 2 3 9]\n",
      "0.8239756097560975\n",
      "Iteration:  420\n",
      "[9 2 7 ... 2 3 9] [9 2 9 ... 2 3 9]\n",
      "0.8259024390243902\n",
      "Iteration:  430\n",
      "[9 2 7 ... 2 3 9] [9 2 9 ... 2 3 9]\n",
      "0.8276341463414634\n",
      "Iteration:  440\n",
      "[9 2 7 ... 2 3 9] [9 2 9 ... 2 3 9]\n",
      "0.8295853658536585\n",
      "Iteration:  450\n",
      "[9 2 7 ... 2 3 9] [9 2 9 ... 2 3 9]\n",
      "0.8314634146341463\n",
      "Iteration:  460\n",
      "[9 2 7 ... 2 3 9] [9 2 9 ... 2 3 9]\n",
      "0.8332195121951219\n",
      "Iteration:  470\n",
      "[9 2 7 ... 2 3 9] [9 2 9 ... 2 3 9]\n",
      "0.8351219512195122\n",
      "Iteration:  480\n",
      "[9 2 7 ... 2 3 9] [9 2 9 ... 2 3 9]\n",
      "0.836780487804878\n",
      "Iteration:  490\n",
      "[9 2 7 ... 2 3 9] [9 2 9 ... 2 3 9]\n",
      "0.8382439024390244\n"
     ]
    }
   ],
   "source": [
    "W1, b1, W2, b2 = gradient_descent(X_train, Y_train, 0.10, 500)"
   ],
   "metadata": {
    "collapsed": false,
    "ExecuteTime": {
     "end_time": "2023-11-12T19:19:20.097741398Z",
     "start_time": "2023-11-12T19:18:42.943462168Z"
    }
   },
   "id": "dc824ff73e6cb999"
  },
  {
   "cell_type": "code",
   "execution_count": 9,
   "outputs": [],
   "source": [
    "def make_predictions(X, W1, b1, W2, b2):\n",
    "    _, _, _, A2 = forward_prop(W1, b1, W2, b2, X)\n",
    "    predictions = get_predictions(A2)\n",
    "    return predictions\n",
    "\n",
    "def test_prediction(index, W1, b1, W2, b2):\n",
    "    current_image = X_train[:, index, None]\n",
    "    prediction = make_predictions(X_train[:, index, None], W1, b1, W2, b2)\n",
    "    label = Y_train[index]\n",
    "    print(\"Prediction: \", prediction)\n",
    "    print(\"Label: \", label)\n",
    "    \n",
    "    current_image = current_image.reshape((28, 28)) * 255\n",
    "    plt.gray()\n",
    "    plt.imshow(current_image, interpolation='nearest')\n",
    "    plt.show()"
   ],
   "metadata": {
    "collapsed": false,
    "ExecuteTime": {
     "end_time": "2023-11-12T19:19:20.141107522Z",
     "start_time": "2023-11-12T19:19:20.096548583Z"
    }
   },
   "id": "54c21d938f2af06a"
  },
  {
   "cell_type": "code",
   "execution_count": 10,
   "outputs": [
    {
     "name": "stdout",
     "output_type": "stream",
     "text": [
      "Prediction:  [9]\n",
      "Label:  9\n"
     ]
    },
    {
     "data": {
      "text/plain": "<Figure size 640x480 with 1 Axes>",
      "image/png": "[encoded data removed]"
     },
     "metadata": {},
     "output_type": "display_data"
    },
    {
     "name": "stdout",
     "output_type": "stream",
     "text": [
      "Prediction:  [2]\n",
      "Label:  2\n"
     ]
    },
    {
     "data": {
      "text/plain": "<Figure size 640x480 with 1 Axes>",
      "image/png": "[encoded data removed]"
     },
     "metadata": {},
     "output_type": "display_data"
    },
    {
     "name": "stdout",
     "output_type": "stream",
     "text": [
      "Prediction:  [7]\n",
      "Label:  9\n"
     ]
    },
    {
     "data": {
      "text/plain": "<Figure size 640x480 with 1 Axes>",
      "image/png": "[encoded data removed]"
     },
     "metadata": {},
     "output_type": "display_data"
    },
    {
     "name": "stdout",
     "output_type": "stream",
     "text": [
      "Prediction:  [3]\n",
      "Label:  3\n"
     ]
    },
    {
     "data": {
      "text/plain": "<Figure size 640x480 with 1 Axes>",
      "image/png": "[encoded data removed]"
     },
     "metadata": {},
     "output_type": "display_data"
    }
   ],
   "source": [
    "test_prediction(0, W1, b1, W2, b2)\n",
    "test_prediction(1, W1, b1, W2, b2)\n",
    "test_prediction(2, W1, b1, W2, b2)\n",
    "test_prediction(3, W1, b1, W2, b2)"
   ],
   "metadata": {
    "collapsed": false,
    "ExecuteTime": {
     "end_time": "2023-11-12T19:19:20.607690901Z",
     "start_time": "2023-11-12T19:19:20.109590438Z"
    }
   },
   "id": "15a8d14fd0605abc"
  },
  {
   "cell_type": "code",
   "execution_count": 11,
   "outputs": [
    {
     "name": "stdout",
     "output_type": "stream",
     "text": [
      "[9 1 8 3 8 6 9 2 5 7 6 1 1 3 9 0 2 2 4 7 0 1 1 8 2 8 1 8 9 5 8 8 6 2 6 0 6\n",
      " 4 1 1 5 4 5 4 5 0 4 4 9 1 5 2 9 5 6 6 6 8 3 0 2 1 6 1 8 4 8 7 0 3 0 2 8 1\n",
      " 2 4 5 2 6 8 2 6 7 4 4 8 2 5 7 2 1 8 9 0 9 7 7 0 4 2 8 1 3 5 4 5 8 0 1 6 2\n",
      " 1 1 9 4 3 4 8 2 7 4 9 0 9 6 1 9 9 2 9 0 8 0 9 5 6 0 1 3 1 4 4 7 7 3 0 7 9\n",
      " 9 6 8 0 7 3 8 7 7 5 5 7 3 6 0 1 2 4 4 0 6 5 3 3 0 9 4 9 1 0 6 3 3 3 9 5 0\n",
      " 5 0 8 0 3 2 8 4 7 8 5 9 3 2 0 4 4 4 7 2 0 1 8 0 1 5 8 9 8 5 7 1 2 9 2 4 6\n",
      " 7 3 8 1 6 2 3 2 0 2 3 9 7 1 4 7 0 7 4 4 5 4 9 7 5 2 5 8 8 0 4 4 1 2 4 1 5\n",
      " 3 0 6 9 3 5 8 7 5 5 5 7 8 7 5 7 3 4 7 0 7 0 3 7 7 8 5 7 0 6 9 3 3 2 9 6 3\n",
      " 7 2 2 7 9 2 4 1 3 2 3 2 7 2 8 4 6 3 6 7 8 3 1 9 2 1 2 2 2 7 7 9 2 4 3 4 0\n",
      " 7 2 6 6 3 5 5 3 4 8 9 5 1 5 4 9 7 8 6 7 1 0 0 1 3 8 2 4 4 4 1 7 0 9 0 6 7\n",
      " 8 4 9 0 5 5 3 7 0 7 4 8 9 8 1 7 7 8 9 3 4 3 2 4 2 6 3 5 5 8 8 2 7 0 9 2 0\n",
      " 5 8 7 3 3 7 0 2 7 0 5 0 8 3 8 1 1 7 5 3 3 6 2 9 3 7 6 8 9 7 8 4 8 2 8 9 7\n",
      " 4 7 4 0 4 4 6 9 9 9 2 9 8 8 3 9 1 6 3 4 5 2 0 8 8 1 3 8 2 3 9 5 3 1 5 5 7\n",
      " 3 7 7 7 0 5 8 1 5 5 7 2 7 1 7 1 8 1 3 4 3 9 6 3 5 0 9 2 5 0 7 3 4 7 6 3 0\n",
      " 7 4 8 0 7 0 3 8 4 5 7 9 8 0 1 0 0 6 0 1 5 1 0 2 1 0 6 9 6 5 2 9 4 7 4 7 3\n",
      " 8 0 4 1 0 2 4 5 8 8 4 1 6 1 1 2 7 8 5 2 2 0 8 9 9 9 2 0 2 1 2 3 7 7 7 8 8\n",
      " 3 7 0 9 4 7 3 9 5 2 4 7 9 2 2 6 6 7 1 4 9 9 1 8 4 5 0 0 3 6 2 7 0 9 1 1 6\n",
      " 2 1 0 9 2 9 2 2 4 2 1 2 7 6 7 2 8 0 7 9 0 9 5 0 7 0 0 1 0 1 9 7 2 4 4 4 9\n",
      " 4 4 7 0 7 5 3 0 0 4 4 2 6 7 6 6 2 9 0 8 4 8 1 6 5 2 2 0 9 6 6 6 8 8 3 9 3\n",
      " 8 2 8 2 2 3 5 2 1 5 2 2 0 9 9 6 0 1 4 2 9 8 9 4 9 7 6 9 2 4 2 9 4 9 5 8 5\n",
      " 6 9 0 6 0 6 4 4 6 2 0 0 4 3 5 8 9 7 0 6 2 7 3 8 6 4 2 4 5 2 8 1 3 8 9 1 7\n",
      " 8 2 6 4 3 3 3 3 9 2 2 2 4 6 6 4 7 6 3 0 1 1 3 0 5 7 1 6 6 6 3 7 3 9 5 3 2\n",
      " 1 8 5 1 1 4 8 8 2 1 7 9 1 8 6 2 1 5 9 1 8 1 7 5 3 5 9 5 3 1 8 0 6 1 2 0 2\n",
      " 3 7 8 1 1 7 0 0 5 8 7 6 8 4 7 7 1 6 2 8 0 6 9 2 6 6 4 8 1 8 7 6 9 8 4 2 8\n",
      " 4 2 6 1 3 3 3 4 6 7 2 5 3 9 1 9 8 8 3 8 8 5 0 2 1 0 2 9 0 1 0 2 8 1 8 8 8\n",
      " 4 4 4 1 8 8 6 0 8 5 1 8 4 9 9 4 7 8 8 2 2 6 3 9 6 4 7 8 4 0 4 4 8 0 7 6 7\n",
      " 2 6 4 7 1 6 5 3 5 8 8 5 1 1 1 2 2 5 1 4 9 7 6 6 0 7 8 0 4 1 1 9 3 5 5 7 6\n",
      " 3] [7 1 8 1 8 6 4 2 5 7 6 1 1 3 9 0 2 2 4 7 0 1 1 3 2 2 1 8 9 0 8 4 6 7 6 0 6\n",
      " 4 1 1 5 4 8 9 5 0 4 8 9 8 5 2 9 5 6 4 6 8 3 0 8 1 6 1 8 4 8 7 0 3 0 2 3 1\n",
      " 8 4 5 2 6 8 2 6 7 9 4 8 2 5 7 3 1 5 9 0 9 7 7 0 4 7 8 1 3 5 4 5 8 0 1 5 2\n",
      " 1 1 9 4 3 4 8 2 7 4 9 0 4 6 1 4 9 6 4 0 7 0 9 5 6 0 1 1 1 9 4 9 7 3 0 7 9\n",
      " 9 6 8 0 7 3 1 3 7 5 5 7 8 6 0 1 2 4 4 0 6 3 3 3 5 9 4 9 1 0 6 3 3 3 9 5 0\n",
      " 5 0 8 0 3 3 8 4 7 3 5 8 5 2 0 4 2 4 7 2 0 1 8 0 1 5 8 2 8 5 7 1 2 9 2 4 6\n",
      " 7 8 5 1 6 2 3 2 0 2 8 9 7 1 4 7 0 9 4 4 5 4 9 7 5 2 3 8 1 0 4 4 1 2 4 1 5\n",
      " 9 0 6 9 3 5 8 7 5 5 5 7 8 7 8 7 3 4 9 0 7 0 3 7 9 8 5 7 0 6 9 9 3 2 9 6 3\n",
      " 7 2 2 7 9 2 4 1 3 6 8 3 7 2 8 4 6 3 6 7 8 3 8 9 2 1 5 2 2 7 7 9 2 4 3 4 0\n",
      " 7 5 6 6 3 5 5 8 4 0 9 5 1 5 9 9 9 8 6 7 1 0 0 7 3 8 2 4 4 4 1 7 0 9 0 6 7\n",
      " 8 4 7 0 0 5 3 5 0 7 4 8 4 8 1 7 7 8 7 3 4 3 2 9 2 6 3 5 5 8 8 2 9 0 9 0 0\n",
      " 5 8 7 3 5 7 0 2 7 0 5 0 8 3 3 1 1 9 5 3 3 6 2 9 3 7 6 8 9 7 8 4 8 2 8 9 7\n",
      " 9 7 4 0 2 4 6 9 9 9 2 9 8 8 3 4 7 6 3 4 5 2 0 8 8 1 3 8 2 3 9 5 3 1 5 3 7\n",
      " 3 7 7 7 0 5 5 1 5 7 7 2 7 1 7 1 8 1 3 4 3 9 6 3 5 0 9 2 5 0 7 3 4 1 6 3 5\n",
      " 9 4 8 0 7 0 3 1 5 6 7 9 8 0 8 6 0 6 0 1 5 1 0 2 1 0 6 7 6 5 2 9 4 7 4 7 3\n",
      " 8 0 4 4 0 2 4 5 8 8 4 9 6 1 1 2 7 2 5 2 2 0 3 4 9 9 3 0 2 1 7 3 9 7 7 8 8\n",
      " 3 7 0 4 4 7 3 9 8 2 4 7 9 2 4 6 2 7 1 5 9 9 1 8 2 5 0 0 3 6 5 7 0 9 1 6 6\n",
      " 2 1 0 9 2 9 2 2 4 5 1 2 7 6 7 2 3 9 7 9 0 9 5 0 7 0 0 8 6 1 9 7 2 9 4 4 9\n",
      " 1 8 9 5 7 5 8 6 0 4 4 3 6 7 4 6 2 9 0 8 4 1 8 6 5 2 2 0 9 6 6 6 8 8 3 9 3\n",
      " 2 2 8 6 2 2 5 2 1 5 2 2 5 5 8 6 0 1 4 2 9 8 9 4 3 7 6 9 7 4 2 9 4 9 5 8 5\n",
      " 6 9 0 6 0 6 4 4 6 7 0 0 4 3 5 3 9 7 0 4 2 7 5 8 6 4 2 9 5 2 8 1 2 3 8 1 7\n",
      " 8 2 6 4 3 3 3 5 9 2 9 2 4 6 6 4 7 6 3 0 1 1 3 0 5 7 7 6 6 6 3 7 3 8 5 3 0\n",
      " 1 3 5 1 1 4 8 2 2 1 7 9 1 8 6 2 1 5 9 2 8 8 5 0 3 5 9 5 3 1 3 0 6 9 2 3 2\n",
      " 3 7 8 1 1 7 0 0 5 8 7 6 8 4 7 7 1 6 2 8 0 6 8 2 4 6 4 8 1 8 7 0 7 8 4 2 8\n",
      " 4 2 6 1 3 2 3 4 6 7 2 5 3 9 1 9 6 8 3 8 5 5 0 2 1 0 2 9 0 1 0 5 8 1 8 8 8\n",
      " 4 4 4 1 8 8 6 0 8 8 1 8 9 9 9 9 7 8 8 8 2 6 5 9 6 4 7 5 4 0 4 4 8 5 7 6 7\n",
      " 2 6 4 7 8 6 5 3 5 8 8 5 1 1 1 2 7 5 1 4 9 7 6 6 0 9 5 0 4 1 1 3 3 5 5 7 2\n",
      " 3]\n"
     ]
    },
    {
     "data": {
      "text/plain": "0.828"
     },
     "execution_count": 11,
     "metadata": {},
     "output_type": "execute_result"
    }
   ],
   "source": [
    "dev_predictions = make_predictions(X_dev, W1, b1, W2, b2)\n",
    "get_accuracy(dev_predictions, Y_dev)"
   ],
   "metadata": {
    "collapsed": false,
    "ExecuteTime": {
     "end_time": "2023-11-12T19:19:20.612633764Z",
     "start_time": "2023-11-12T19:19:20.525047298Z"
    }
   },
   "id": "5cfe9a6bc80ffe61"
  }
 ],
 "metadata": {
  "kernelspec": {
   "display_name": "Python 3",
   "language": "python",
   "name": "python3"
  },
  "language_info": {
   "codemirror_mode": {
    "name": "ipython",
    "version": 2
   },
   "file_extension": ".py",
   "mimetype": "text/x-python",
   "name": "python",
   "nbconvert_exporter": "python",
   "pygments_lexer": "ipython2",
   "version": "2.7.6"
  }
 },
 "nbformat": 4,
 "nbformat_minor": 5
}
