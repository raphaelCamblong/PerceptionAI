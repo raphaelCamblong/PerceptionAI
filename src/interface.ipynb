{
 "cells": [
  {
   "cell_type": "markdown",
   "source": [
    "## Import"
   ],
   "metadata": {
    "collapsed": false
   },
   "id": "4b3c70510d65b06f"
  },
  {
   "cell_type": "code",
   "execution_count": 6,
   "outputs": [],
   "source": [
    "import tkinter as tk\n",
    "from PIL import Image, ImageTk"
   ],
   "metadata": {
    "collapsed": true,
    "ExecuteTime": {
     "end_time": "2023-12-09T10:30:07.694223806Z",
     "start_time": "2023-12-09T10:30:07.689490405Z"
    }
   },
   "id": "initial_id"
  },
  {
   "cell_type": "markdown",
   "source": [
    "## Interface"
   ],
   "metadata": {
    "collapsed": false
   },
   "id": "4c4d687e1d636103"
  },
  {
   "cell_type": "code",
   "execution_count": 2,
   "outputs": [],
   "source": [
    "def interface():\n",
    "    root = Tk()\n",
    "    cv = Canvas(root)\n",
    "    cv.create_rectangle(10,10,50,50, fill='green')\n",
    "    cv.pack()\n",
    "    \n",
    "    cv.update()\n",
    "    # Get the EPS corresponding to the canvas\n",
    "    eps = cv.postscript(colormode='color')"
   ],
   "metadata": {
    "collapsed": false,
    "ExecuteTime": {
     "end_time": "2023-12-09T10:25:01.436781920Z",
     "start_time": "2023-12-09T10:25:01.424318300Z"
    }
   },
   "id": "24b5b65fd28b548b"
  },
  {
   "cell_type": "code",
   "execution_count": 3,
   "outputs": [],
   "source": [
    "interface()"
   ],
   "metadata": {
    "collapsed": false,
    "ExecuteTime": {
     "end_time": "2023-12-09T10:25:29.871289914Z",
     "start_time": "2023-12-09T10:25:06.638965392Z"
    }
   },
   "id": "360601c4d47a2b25"
  },
  {
   "cell_type": "code",
   "execution_count": null,
   "outputs": [],
   "source": [],
   "metadata": {
    "collapsed": false
   },
   "id": "6e5eba1f99917a61"
  }
 ],
 "metadata": {
  "kernelspec": {
   "display_name": "Python 3",
   "language": "python",
   "name": "python3"
  },
  "language_info": {
   "codemirror_mode": {
    "name": "ipython",
    "version": 2
   },
   "file_extension": ".py",
   "mimetype": "text/x-python",
   "name": "python",
   "nbconvert_exporter": "python",
   "pygments_lexer": "ipython2",
   "version": "2.7.6"
  }
 },
 "nbformat": 4,
 "nbformat_minor": 5
}
