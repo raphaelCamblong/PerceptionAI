{
 "cells": [
  {
   "cell_type": "code",
   "execution_count": 16,
   "id": "29eef2b3871ab241",
   "metadata": {
    "collapsed": false,
    "ExecuteTime": {
     "end_time": "2023-12-18T22:23:56.821362752Z",
     "start_time": "2023-12-18T22:23:56.778289655Z"
    }
   },
   "outputs": [],
   "source": [
    "import numpy as np\n",
    "import pandas as pd\n",
    "from matplotlib import pyplot as plt"
   ]
  },
  {
   "cell_type": "code",
   "execution_count": 17,
   "id": "b2c4674e280d10a2",
   "metadata": {
    "collapsed": false,
    "ExecuteTime": {
     "end_time": "2023-12-18T22:23:59.938511806Z",
     "start_time": "2023-12-18T22:23:58.148642787Z"
    }
   },
   "outputs": [],
   "source": [
    "data = pd.read_csv('../data/train.csv')"
   ]
  },
  {
   "cell_type": "code",
   "execution_count": 15,
   "id": "d1fb30d14480fb99",
   "metadata": {
    "collapsed": false,
    "ExecuteTime": {
     "end_time": "2023-12-18T22:12:18.494623815Z",
     "start_time": "2023-12-18T22:12:17.101973982Z"
    }
   },
   "outputs": [],
   "source": [
    "data = np.array(data)\n",
    "m, n = data.shape\n",
    "np.random.shuffle(data)\n",
    "\n",
    "data_dev = data[0:1000].T\n",
    "Y_dev = data_dev[0]\n",
    "X_dev = data_dev[1:n]\n",
    "X_dev = X_dev / 255.\n",
    "\n",
    "data_train = data[1000:m].T\n",
    "Y_train = data_train[0]\n",
    "X_train = data_train[1:n]\n",
    "X_train = X_train / 255.\n",
    "_,m_train = X_train.shape"
   ]
  },
  {
   "cell_type": "code",
   "execution_count": 28,
   "outputs": [
    {
     "data": {
      "text/plain": "(784, 41000)"
     },
     "execution_count": 28,
     "metadata": {},
     "output_type": "execute_result"
    }
   ],
   "source": [
    "X_train.shape"
   ],
   "metadata": {
    "collapsed": false,
    "ExecuteTime": {
     "end_time": "2023-12-19T00:57:15.409125468Z",
     "start_time": "2023-12-19T00:57:15.361250392Z"
    }
   },
   "id": "b3dd79c087b5e169"
  },
  {
   "cell_type": "code",
   "execution_count": 31,
   "outputs": [
    {
     "data": {
      "text/plain": "(41000,)"
     },
     "execution_count": 31,
     "metadata": {},
     "output_type": "execute_result"
    }
   ],
   "source": [
    "Y_train.shape"
   ],
   "metadata": {
    "collapsed": false,
    "ExecuteTime": {
     "end_time": "2023-12-19T01:05:06.092423750Z",
     "start_time": "2023-12-19T01:05:06.080512553Z"
    }
   },
   "id": "e318410fbf376bec"
  },
  {
   "cell_type": "code",
   "execution_count": 5,
   "id": "5c2226d94bde9880",
   "metadata": {
    "collapsed": false,
    "ExecuteTime": {
     "end_time": "2023-12-18T22:11:21.503536752Z",
     "start_time": "2023-12-18T22:11:21.493545601Z"
    }
   },
   "outputs": [],
   "source": [
    "def init_params():\n",
    "    W1 = np.random.rand(10, 784) - 0.5\n",
    "    b1 = np.random.rand(10, 1) - 0.5\n",
    "    W2 = np.random.rand(10, 10) - 0.5\n",
    "    b2 = np.random.rand(10, 1) - 0.5\n",
    "    return W1, b1, W2, b2\n",
    "\n",
    "def ReLU(Z):\n",
    "    return np.maximum(Z, 0)\n",
    "\n",
    "def softmax(Z):\n",
    "    A = np.exp(Z) / sum(np.exp(Z))\n",
    "    return A\n",
    "    \n",
    "def forward_prop(W1, b1, W2, b2, X):\n",
    "    Z1 = W1.dot(X) + b1\n",
    "    A1 = ReLU(Z1)\n",
    "    Z2 = W2.dot(A1) + b2\n",
    "    A2 = softmax(Z2)\n",
    "    return Z1, A1, Z2, A2\n",
    "\n",
    "def ReLU_deriv(Z):\n",
    "    return Z > 0\n",
    "\n",
    "def one_hot(Y):\n",
    "    one_hot_Y = np.zeros((Y.size, Y.max() + 1))\n",
    "    one_hot_Y[np.arange(Y.size), Y] = 1\n",
    "    one_hot_Y = one_hot_Y.T\n",
    "    return one_hot_Y\n",
    "\n",
    "def backward_prop(Z1, A1, Z2, A2, W1, W2, X, Y):\n",
    "    one_hot_Y = one_hot(Y)\n",
    "    dZ2 = A2 - one_hot_Y\n",
    "    dW2 = 1 / m * dZ2.dot(A1.T)\n",
    "    db2 = 1 / m * np.sum(dZ2)\n",
    "    dZ1 = W2.T.dot(dZ2) * ReLU_deriv(Z1)\n",
    "    dW1 = 1 / m * dZ1.dot(X.T)\n",
    "    db1 = 1 / m * np.sum(dZ1)\n",
    "    return dW1, db1, dW2, db2\n",
    "\n",
    "def update_params(W1, b1, W2, b2, dW1, db1, dW2, db2, alpha):\n",
    "    W1 = W1 - alpha * dW1\n",
    "    b1 = b1 - alpha * db1    \n",
    "    W2 = W2 - alpha * dW2  \n",
    "    b2 = b2 - alpha * db2    \n",
    "    return W1, b1, W2, b2"
   ]
  },
  {
   "cell_type": "code",
   "execution_count": 6,
   "id": "5aeae3e9b8e5901a",
   "metadata": {
    "collapsed": false,
    "ExecuteTime": {
     "end_time": "2023-12-18T22:11:21.579048822Z",
     "start_time": "2023-12-18T22:11:21.498650298Z"
    }
   },
   "outputs": [],
   "source": [
    "def get_predictions(A2):\n",
    "    return np.argmax(A2, 0)\n",
    "\n",
    "def get_accuracy(predictions, Y):\n",
    "    print(predictions, Y)\n",
    "    return np.sum(predictions == Y) / Y.size\n",
    "\n",
    "def gradient_descent(X, Y, alpha, iterations):\n",
    "    W1, b1, W2, b2 = init_params()\n",
    "    for i in range(iterations):\n",
    "        Z1, A1, Z2, A2 = forward_prop(W1, b1, W2, b2, X)\n",
    "        dW1, db1, dW2, db2 = backward_prop(Z1, A1, Z2, A2, W1, W2, X, Y)\n",
    "        W1, b1, W2, b2 = update_params(W1, b1, W2, b2, dW1, db1, dW2, db2, alpha)\n",
    "        if i % 10 == 0:\n",
    "            print(\"Iteration: \", i)\n",
    "            predictions = get_predictions(A2)\n",
    "            print(get_accuracy(predictions, Y))\n",
    "    return W1, b1, W2, b2"
   ]
  },
  {
   "cell_type": "code",
   "execution_count": 7,
   "id": "dc824ff73e6cb999",
   "metadata": {
    "collapsed": false,
    "ExecuteTime": {
     "end_time": "2023-12-18T22:12:14.814984993Z",
     "start_time": "2023-12-18T22:11:21.541817553Z"
    }
   },
   "outputs": [
    {
     "name": "stdout",
     "output_type": "stream",
     "text": [
      "Iteration:  0\n",
      "[1 7 0 ... 1 6 1] [1 4 8 ... 7 6 9]\n",
      "0.11251219512195122\n",
      "Iteration:  10\n",
      "[0 7 1 ... 1 6 4] [1 4 8 ... 7 6 9]\n",
      "0.25041463414634146\n",
      "Iteration:  20\n",
      "[1 6 1 ... 1 6 4] [1 4 8 ... 7 6 9]\n",
      "0.32246341463414635\n",
      "Iteration:  30\n",
      "[1 4 1 ... 1 6 4] [1 4 8 ... 7 6 9]\n",
      "0.3755121951219512\n",
      "Iteration:  40\n",
      "[1 4 1 ... 1 6 4] [1 4 8 ... 7 6 9]\n",
      "0.42097560975609755\n",
      "Iteration:  50\n",
      "[1 4 1 ... 1 6 4] [1 4 8 ... 7 6 9]\n",
      "0.4606585365853659\n",
      "Iteration:  60\n",
      "[1 4 1 ... 1 6 4] [1 4 8 ... 7 6 9]\n",
      "0.5015609756097561\n",
      "Iteration:  70\n",
      "[1 4 1 ... 7 6 4] [1 4 8 ... 7 6 9]\n",
      "0.5394390243902439\n",
      "Iteration:  80\n",
      "[1 4 8 ... 7 6 4] [1 4 8 ... 7 6 9]\n",
      "0.5754390243902439\n",
      "Iteration:  90\n",
      "[1 4 8 ... 7 6 4] [1 4 8 ... 7 6 9]\n",
      "0.6096829268292683\n",
      "Iteration:  100\n",
      "[1 4 8 ... 7 6 4] [1 4 8 ... 7 6 9]\n",
      "0.6381463414634146\n",
      "Iteration:  110\n",
      "[1 4 8 ... 7 6 4] [1 4 8 ... 7 6 9]\n",
      "0.6618780487804878\n",
      "Iteration:  120\n",
      "[1 4 8 ... 7 6 4] [1 4 8 ... 7 6 9]\n",
      "0.6830243902439025\n",
      "Iteration:  130\n",
      "[1 4 8 ... 7 6 4] [1 4 8 ... 7 6 9]\n",
      "0.7000731707317073\n",
      "Iteration:  140\n",
      "[1 4 8 ... 7 6 9] [1 4 8 ... 7 6 9]\n",
      "0.714\n",
      "Iteration:  150\n",
      "[1 4 8 ... 7 6 9] [1 4 8 ... 7 6 9]\n",
      "0.7274146341463414\n",
      "Iteration:  160\n",
      "[1 4 8 ... 7 6 9] [1 4 8 ... 7 6 9]\n",
      "0.7386585365853658\n",
      "Iteration:  170\n",
      "[1 4 8 ... 7 6 9] [1 4 8 ... 7 6 9]\n",
      "0.7480243902439024\n",
      "Iteration:  180\n",
      "[1 4 8 ... 7 6 9] [1 4 8 ... 7 6 9]\n",
      "0.755780487804878\n",
      "Iteration:  190\n",
      "[1 4 8 ... 7 6 9] [1 4 8 ... 7 6 9]\n",
      "0.7633658536585366\n",
      "Iteration:  200\n",
      "[1 4 8 ... 7 6 9] [1 4 8 ... 7 6 9]\n",
      "0.7704390243902439\n",
      "Iteration:  210\n",
      "[1 4 8 ... 7 6 9] [1 4 8 ... 7 6 9]\n",
      "0.7765121951219512\n",
      "Iteration:  220\n",
      "[1 4 8 ... 7 6 9] [1 4 8 ... 7 6 9]\n",
      "0.7821463414634147\n",
      "Iteration:  230\n",
      "[1 4 8 ... 7 6 9] [1 4 8 ... 7 6 9]\n",
      "0.7872682926829269\n",
      "Iteration:  240\n",
      "[1 4 8 ... 7 6 9] [1 4 8 ... 7 6 9]\n",
      "0.7921707317073171\n",
      "Iteration:  250\n",
      "[1 4 8 ... 7 6 9] [1 4 8 ... 7 6 9]\n",
      "0.7959512195121952\n",
      "Iteration:  260\n",
      "[1 4 8 ... 7 6 9] [1 4 8 ... 7 6 9]\n",
      "0.7994634146341464\n",
      "Iteration:  270\n",
      "[1 4 8 ... 7 6 9] [1 4 8 ... 7 6 9]\n",
      "0.8029024390243903\n",
      "Iteration:  280\n",
      "[1 4 8 ... 7 6 9] [1 4 8 ... 7 6 9]\n",
      "0.8065609756097561\n",
      "Iteration:  290\n",
      "[1 4 8 ... 7 6 9] [1 4 8 ... 7 6 9]\n",
      "0.809609756097561\n",
      "Iteration:  300\n",
      "[1 4 8 ... 7 6 9] [1 4 8 ... 7 6 9]\n",
      "0.8122682926829269\n",
      "Iteration:  310\n",
      "[1 4 8 ... 7 6 9] [1 4 8 ... 7 6 9]\n",
      "0.8149024390243902\n",
      "Iteration:  320\n",
      "[1 4 8 ... 7 6 9] [1 4 8 ... 7 6 9]\n",
      "0.8177317073170731\n",
      "Iteration:  330\n",
      "[1 4 8 ... 7 6 9] [1 4 8 ... 7 6 9]\n",
      "0.8200731707317073\n",
      "Iteration:  340\n",
      "[1 4 8 ... 7 6 9] [1 4 8 ... 7 6 9]\n",
      "0.8223414634146341\n",
      "Iteration:  350\n",
      "[1 4 8 ... 7 6 9] [1 4 8 ... 7 6 9]\n",
      "0.8244878048780487\n",
      "Iteration:  360\n",
      "[1 4 8 ... 7 6 9] [1 4 8 ... 7 6 9]\n",
      "0.8268292682926829\n",
      "Iteration:  370\n",
      "[1 4 8 ... 7 6 9] [1 4 8 ... 7 6 9]\n",
      "0.8288292682926829\n",
      "Iteration:  380\n",
      "[1 4 8 ... 7 6 9] [1 4 8 ... 7 6 9]\n",
      "0.8308292682926829\n",
      "Iteration:  390\n",
      "[1 4 8 ... 7 6 9] [1 4 8 ... 7 6 9]\n",
      "0.8322439024390244\n",
      "Iteration:  400\n",
      "[1 4 8 ... 7 6 9] [1 4 8 ... 7 6 9]\n",
      "0.8342439024390244\n",
      "Iteration:  410\n",
      "[1 4 8 ... 7 6 9] [1 4 8 ... 7 6 9]\n",
      "0.8359024390243902\n",
      "Iteration:  420\n",
      "[1 4 8 ... 7 6 9] [1 4 8 ... 7 6 9]\n",
      "0.8375365853658536\n",
      "Iteration:  430\n",
      "[1 4 8 ... 7 6 9] [1 4 8 ... 7 6 9]\n",
      "0.839\n",
      "Iteration:  440\n",
      "[1 4 8 ... 7 6 9] [1 4 8 ... 7 6 9]\n",
      "0.8409268292682927\n",
      "Iteration:  450\n",
      "[1 4 8 ... 7 6 9] [1 4 8 ... 7 6 9]\n",
      "0.8424634146341463\n",
      "Iteration:  460\n",
      "[1 4 8 ... 7 6 9] [1 4 8 ... 7 6 9]\n",
      "0.8440731707317073\n",
      "Iteration:  470\n",
      "[1 4 8 ... 7 6 9] [1 4 8 ... 7 6 9]\n",
      "0.8455121951219512\n",
      "Iteration:  480\n",
      "[1 4 8 ... 7 6 9] [1 4 8 ... 7 6 9]\n",
      "0.8470731707317073\n",
      "Iteration:  490\n",
      "[1 4 8 ... 7 6 9] [1 4 8 ... 7 6 9]\n",
      "0.8481463414634146\n"
     ]
    }
   ],
   "source": [
    "W1, b1, W2, b2 = gradient_descent(X_train, Y_train, 0.10, 500)"
   ]
  },
  {
   "cell_type": "code",
   "execution_count": 8,
   "id": "54c21d938f2af06a",
   "metadata": {
    "collapsed": false,
    "ExecuteTime": {
     "end_time": "2023-12-18T22:12:14.834520301Z",
     "start_time": "2023-12-18T22:12:14.813971273Z"
    }
   },
   "outputs": [],
   "source": [
    "def make_predictions(X, W1, b1, W2, b2):\n",
    "    _, _, _, A2 = forward_prop(W1, b1, W2, b2, X)\n",
    "    predictions = get_predictions(A2)\n",
    "    return predictions\n",
    "\n",
    "def test_prediction(index, W1, b1, W2, b2):\n",
    "    current_image = X_train[:, index, None]\n",
    "    prediction = make_predictions(X_train[:, index, None], W1, b1, W2, b2)\n",
    "    label = Y_train[index]\n",
    "    print(\"Prediction: \", prediction)\n",
    "    print(\"Label: \", label)\n",
    "    \n",
    "    current_image = current_image.reshape((28, 28)) * 255\n",
    "    plt.gray()\n",
    "    plt.imshow(current_image, interpolation='nearest')\n",
    "    plt.show()"
   ]
  },
  {
   "cell_type": "code",
   "execution_count": 9,
   "id": "15a8d14fd0605abc",
   "metadata": {
    "collapsed": false,
    "ExecuteTime": {
     "end_time": "2023-12-18T22:12:15.300429119Z",
     "start_time": "2023-12-18T22:12:14.828612543Z"
    }
   },
   "outputs": [
    {
     "name": "stdout",
     "output_type": "stream",
     "text": [
      "Prediction:  [1]\n",
      "Label:  1\n"
     ]
    },
    {
     "data": {
      "text/plain": "<Figure size 640x480 with 1 Axes>",
      "image/png": "[encoded data removed]"
     },
     "metadata": {},
     "output_type": "display_data"
    },
    {
     "name": "stdout",
     "output_type": "stream",
     "text": [
      "Prediction:  [4]\n",
      "Label:  4\n"
     ]
    },
    {
     "data": {
      "text/plain": "<Figure size 640x480 with 1 Axes>",
      "image/png": "[encoded data removed]"
     },
     "metadata": {},
     "output_type": "display_data"
    },
    {
     "name": "stdout",
     "output_type": "stream",
     "text": [
      "Prediction:  [8]\n",
      "Label:  8\n"
     ]
    },
    {
     "data": {
      "text/plain": "<Figure size 640x480 with 1 Axes>",
      "image/png": "[encoded data removed]"
     },
     "metadata": {},
     "output_type": "display_data"
    },
    {
     "name": "stdout",
     "output_type": "stream",
     "text": [
      "Prediction:  [0]\n",
      "Label:  0\n"
     ]
    },
    {
     "data": {
      "text/plain": "<Figure size 640x480 with 1 Axes>",
      "image/png": "[encoded data removed]"
     },
     "metadata": {},
     "output_type": "display_data"
    }
   ],
   "source": [
    "test_prediction(0, W1, b1, W2, b2)\n",
    "test_prediction(1, W1, b1, W2, b2)\n",
    "test_prediction(2, W1, b1, W2, b2)\n",
    "test_prediction(3, W1, b1, W2, b2)"
   ]
  },
  {
   "cell_type": "code",
   "execution_count": 10,
   "id": "5cfe9a6bc80ffe61",
   "metadata": {
    "collapsed": false,
    "ExecuteTime": {
     "end_time": "2023-12-18T22:12:15.445077483Z",
     "start_time": "2023-12-18T22:12:15.302928101Z"
    }
   },
   "outputs": [
    {
     "name": "stdout",
     "output_type": "stream",
     "text": [
      "[2 9 4 6 7 1 0 7 2 8 6 8 4 4 9 1 3 3 6 1 6 5 3 6 1 3 7 2 1 2 2 9 5 3 6 4 3\n",
      " 6 3 2 5 4 3 8 5 8 3 9 9 9 7 4 0 9 3 2 1 1 5 4 3 1 7 4 6 0 3 2 4 9 7 7 7 6\n",
      " 9 5 7 0 9 9 7 3 4 3 9 9 8 9 5 5 2 0 1 4 6 7 3 2 5 0 9 2 4 3 1 4 0 8 1 7 1\n",
      " 3 2 7 3 2 5 1 7 7 9 1 1 7 8 3 0 9 1 0 0 3 1 4 6 3 1 9 6 1 0 1 0 4 0 3 6 9\n",
      " 6 6 2 7 0 1 4 3 8 3 7 2 1 3 2 2 8 7 8 2 4 9 9 8 7 4 9 0 2 0 4 0 7 9 1 8 8\n",
      " 6 0 5 4 2 0 4 9 9 8 1 1 9 5 3 3 3 2 9 6 5 2 7 8 8 0 1 3 7 2 4 0 0 4 1 3 4\n",
      " 2 1 8 5 6 1 3 6 0 1 1 5 1 9 7 2 8 2 7 1 9 7 3 8 4 7 4 4 3 5 8 8 5 3 4 6 7\n",
      " 8 1 9 8 7 9 9 5 3 3 3 1 6 3 1 8 9 6 7 8 8 5 0 0 2 4 6 0 9 9 5 3 7 6 6 3 6\n",
      " 4 6 1 2 7 7 7 9 1 4 0 3 1 0 3 3 9 3 8 2 0 1 7 4 1 5 0 3 6 9 7 2 9 7 2 5 2\n",
      " 3 7 1 8 8 5 8 8 6 2 9 1 1 4 0 4 7 7 1 7 9 9 5 3 4 9 7 1 3 7 3 9 2 4 9 9 5\n",
      " 8 8 9 2 7 4 1 9 0 4 9 1 2 7 8 7 6 1 7 9 7 5 5 7 3 8 0 1 2 4 9 9 5 6 1 8 8\n",
      " 6 4 1 7 6 9 8 4 2 0 0 2 9 9 5 4 4 1 7 3 3 9 8 3 7 6 3 3 1 4 2 0 5 1 8 5 9\n",
      " 2 8 4 0 7 9 0 5 6 6 6 4 2 4 7 1 5 7 8 5 5 8 2 7 1 0 0 9 7 5 3 5 9 9 7 4 0\n",
      " 6 8 6 4 5 8 0 1 4 5 1 1 2 7 7 5 2 0 1 6 6 4 0 2 6 3 2 2 7 1 3 6 2 7 9 7 9\n",
      " 7 7 3 7 3 4 1 6 1 6 0 3 1 0 6 3 4 9 9 0 4 2 7 4 4 1 4 4 6 6 4 5 5 5 5 4 4\n",
      " 4 6 5 8 9 0 2 3 9 7 6 8 1 3 8 7 5 7 0 7 1 3 1 2 0 8 2 0 5 1 7 4 8 8 6 5 6\n",
      " 1 6 7 0 2 8 5 0 3 7 6 6 3 8 3 1 7 8 5 3 8 6 3 9 8 7 4 1 9 5 8 6 4 3 4 6 6\n",
      " 1 3 8 9 8 3 7 8 7 3 3 2 6 4 4 5 0 3 7 7 1 8 2 8 6 0 8 7 6 6 6 3 3 7 1 7 7\n",
      " 6 1 0 3 7 0 9 0 9 5 9 4 8 1 7 9 6 5 7 6 5 9 3 3 7 3 2 8 3 1 6 3 5 6 7 2 6\n",
      " 1 2 7 3 6 6 1 7 3 4 7 5 5 4 6 1 2 2 6 5 4 8 2 5 9 9 7 2 3 3 8 1 9 6 9 9 7\n",
      " 6 7 7 9 4 9 9 9 4 2 0 9 7 1 9 8 5 3 5 6 1 1 6 5 5 4 9 1 5 4 3 0 6 0 7 9 8\n",
      " 8 1 8 0 9 8 4 0 8 7 5 4 4 1 9 6 3 9 1 7 1 8 2 1 9 0 7 2 5 3 6 6 0 9 4 5 6\n",
      " 6 8 3 4 0 4 0 9 7 2 2 5 5 9 3 8 3 3 0 4 3 0 3 6 9 4 7 6 7 3 2 5 3 5 7 0 6\n",
      " 3 1 7 6 3 9 0 5 3 1 5 9 7 5 4 3 6 4 8 1 1 1 2 8 7 7 6 5 8 1 3 5 6 0 7 4 0\n",
      " 4 5 3 3 4 5 7 0 7 7 5 2 1 5 8 8 8 5 3 0 0 1 2 3 0 2 8 7 4 5 6 7 5 6 4 1 2\n",
      " 9 2 0 3 6 9 1 3 2 9 4 7 8 2 3 9 9 6 4 6 8 8 6 4 6 1 8 6 4 5 2 2 8 1 4 2 8\n",
      " 2 2 0 9 1 5 9 9 5 3 9 1 5 7 3 4 0 0 9 4 6 4 8 1 1 4 0 9 5 4 7 3 0 8 7 7 5\n",
      " 5] [2 4 4 6 7 1 0 7 2 8 3 8 4 4 9 1 3 3 6 1 2 5 8 6 1 5 7 2 1 2 6 9 5 3 6 9 3\n",
      " 6 3 2 3 4 3 1 5 8 8 9 4 7 7 2 0 9 3 2 1 1 8 4 3 5 7 4 6 0 6 7 4 9 7 7 7 6\n",
      " 9 5 7 0 9 9 7 3 4 3 9 9 8 9 5 5 2 0 1 4 6 7 3 2 8 0 4 2 4 7 1 4 0 8 1 7 1\n",
      " 3 2 7 3 2 5 1 7 7 8 1 1 3 8 3 0 9 1 0 0 3 1 8 6 3 1 9 6 1 0 1 0 4 0 3 6 7\n",
      " 6 6 2 7 0 1 9 3 8 3 7 6 1 3 2 2 9 7 8 2 9 9 9 9 7 4 9 9 2 0 4 5 7 4 1 8 8\n",
      " 6 0 3 4 2 0 8 9 9 8 1 1 9 5 3 3 3 6 9 6 2 2 7 8 8 0 1 3 7 6 4 0 0 4 1 3 4\n",
      " 2 1 8 5 6 1 3 3 0 1 1 5 1 7 7 2 8 2 7 1 7 7 3 8 4 9 4 4 3 5 8 8 5 3 4 6 7\n",
      " 8 1 9 8 7 7 7 5 3 3 3 1 2 3 1 8 8 6 7 8 8 5 5 0 2 4 6 0 4 9 5 3 7 6 6 3 6\n",
      " 4 3 1 2 7 7 7 4 1 4 0 8 1 0 3 3 9 3 8 2 0 1 7 4 1 5 0 3 6 9 7 2 9 7 2 5 2\n",
      " 3 7 1 9 8 5 9 8 6 2 7 1 1 4 0 4 7 7 1 7 9 9 5 8 4 9 7 1 4 7 2 8 2 4 9 9 5\n",
      " 8 8 5 2 7 4 1 9 0 4 9 6 2 7 8 7 6 1 7 9 7 5 5 7 3 8 0 1 2 9 9 9 5 6 1 8 8\n",
      " 6 4 1 9 6 9 8 4 2 0 0 5 4 9 5 9 4 1 7 5 3 4 8 3 7 2 3 3 1 4 2 0 5 1 8 0 4\n",
      " 2 8 4 2 7 9 0 3 6 6 6 9 2 4 5 1 5 7 8 5 5 8 2 7 1 0 0 9 7 5 3 0 9 9 7 4 0\n",
      " 6 8 6 4 5 8 0 1 4 5 1 1 5 7 7 5 2 0 1 6 6 4 0 2 6 3 2 0 7 1 5 6 2 7 9 7 9\n",
      " 7 7 3 9 3 4 1 6 1 6 0 3 1 0 6 3 4 9 7 0 4 8 7 4 4 1 4 4 6 6 5 5 5 5 5 4 4\n",
      " 4 6 5 8 9 0 2 3 8 7 6 8 1 3 8 7 3 7 0 7 1 3 1 2 0 8 2 0 5 1 7 4 8 8 6 3 6\n",
      " 1 6 7 0 2 8 6 0 8 7 6 2 5 8 5 1 7 8 5 3 8 6 3 9 2 3 9 1 9 8 7 6 4 3 4 6 6\n",
      " 1 0 8 9 3 3 7 8 7 3 3 2 6 4 9 5 0 3 7 9 9 8 2 8 6 0 8 7 6 6 6 3 3 7 1 7 7\n",
      " 0 1 0 3 7 0 7 0 9 5 9 0 8 1 5 9 6 3 7 6 5 9 3 3 7 3 2 8 3 5 6 3 5 6 7 2 6\n",
      " 1 0 7 8 6 6 1 7 5 4 7 5 5 4 5 1 2 2 6 8 4 8 2 5 4 9 7 2 3 5 8 1 9 6 9 9 7\n",
      " 6 7 7 9 4 9 9 9 4 3 0 9 7 1 9 8 5 3 5 6 1 1 6 5 5 4 7 1 5 8 3 0 6 0 8 9 8\n",
      " 8 1 8 0 9 1 4 0 8 7 5 4 6 1 9 6 5 9 1 7 1 8 2 2 9 0 9 2 5 3 4 6 0 9 4 5 6\n",
      " 6 8 3 4 0 2 0 9 7 2 2 5 5 9 5 3 3 9 0 4 3 0 3 3 9 4 7 2 7 3 2 5 5 0 7 0 6\n",
      " 3 1 7 6 3 6 0 5 3 1 8 9 7 5 4 3 6 4 8 1 1 1 2 8 7 7 6 5 8 1 5 5 6 0 7 4 0\n",
      " 4 5 2 3 4 5 7 3 7 9 5 2 1 5 8 8 8 5 3 0 0 1 2 8 0 2 8 7 4 5 6 9 5 6 4 1 2\n",
      " 9 3 0 3 6 9 1 3 3 9 3 7 8 2 3 9 9 6 4 6 8 8 6 4 6 5 8 6 5 5 2 2 8 1 4 2 2\n",
      " 2 5 0 9 1 5 9 9 5 3 9 1 5 7 3 4 0 0 9 4 6 4 8 1 1 4 0 4 5 4 7 3 0 8 7 7 5\n",
      " 5]\n"
     ]
    },
    {
     "data": {
      "text/plain": "0.854"
     },
     "execution_count": 10,
     "metadata": {},
     "output_type": "execute_result"
    }
   ],
   "source": [
    "dev_predictions = make_predictions(X_dev, W1, b1, W2, b2)\n",
    "get_accuracy(dev_predictions, Y_dev)"
   ]
  },
  {
   "cell_type": "code",
   "execution_count": 10,
   "id": "40e6733c998a054e",
   "metadata": {
    "collapsed": false,
    "ExecuteTime": {
     "end_time": "2023-12-18T22:12:15.445879827Z",
     "start_time": "2023-12-18T22:12:15.311783595Z"
    }
   },
   "outputs": [],
   "source": []
  }
 ],
 "metadata": {
  "kernelspec": {
   "display_name": "Python 3 (ipykernel)",
   "language": "python",
   "name": "python3"
  },
  "language_info": {
   "codemirror_mode": {
    "name": "ipython",
    "version": 2
   },
   "file_extension": ".py",
   "mimetype": "text/x-python",
   "name": "python",
   "nbconvert_exporter": "python",
   "pygments_lexer": "ipython2",
   "version": "2.7.6"
  }
 },
 "nbformat": 4,
 "nbformat_minor": 5
}
